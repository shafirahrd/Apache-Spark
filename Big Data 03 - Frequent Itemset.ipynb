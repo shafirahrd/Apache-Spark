{
 "cells": [
  {
   "cell_type": "markdown",
   "metadata": {},
   "source": [
    "## DATASET"
   ]
  },
  {
   "cell_type": "markdown",
   "metadata": {},
   "source": [
    "Source : https://www.kaggle.com/puneetbhaya/online-retail/"
   ]
  },
  {
   "cell_type": "markdown",
   "metadata": {},
   "source": [
    "## Initialization"
   ]
  },
  {
   "cell_type": "code",
   "execution_count": 1,
   "metadata": {},
   "outputs": [],
   "source": [
    "# Import findspark to read SPARK_HOME and HADOOP_HOME\n",
    "\n",
    "import findspark\n",
    "findspark.init()"
   ]
  },
  {
   "cell_type": "code",
   "execution_count": 2,
   "metadata": {},
   "outputs": [],
   "source": [
    "# Import required library\n",
    "\n",
    "from pyspark.sql import SparkSession\n",
    "\n",
    "# Create Spark Session\n",
    "spark = SparkSession \\\n",
    "    .builder \\\n",
    "    .appName(\"Python Spark SQL basic example\") \\\n",
    "    .getOrCreate()"
   ]
  },
  {
   "cell_type": "code",
   "execution_count": 3,
   "metadata": {},
   "outputs": [
    {
     "name": "stdout",
     "output_type": "stream",
     "text": [
      "<pyspark.sql.session.SparkSession object at 0x00000211BA645198>\n"
     ]
    }
   ],
   "source": [
    "# Print Spark object ID\n",
    "print(spark)"
   ]
  },
  {
   "cell_type": "markdown",
   "metadata": {},
   "source": [
    "## Loading Data & Pre Processing"
   ]
  },
  {
   "cell_type": "code",
   "execution_count": 4,
   "metadata": {},
   "outputs": [],
   "source": [
    "# Import Dataset Online Retail\n",
    "data = spark.read.csv(\"OnlineRetail.csv\", header=True, inferSchema=True)"
   ]
  },
  {
   "cell_type": "code",
   "execution_count": 5,
   "metadata": {},
   "outputs": [
    {
     "data": {
      "text/plain": [
       "541909"
      ]
     },
     "execution_count": 5,
     "metadata": {},
     "output_type": "execute_result"
    }
   ],
   "source": [
    "data.count()"
   ]
  },
  {
   "cell_type": "code",
   "execution_count": 6,
   "metadata": {},
   "outputs": [
    {
     "name": "stdout",
     "output_type": "stream",
     "text": [
      "+---------+---------+--------------------+--------+----------------+---------+----------+--------------+\n",
      "|InvoiceNo|StockCode|         Description|Quantity|     InvoiceDate|UnitPrice|CustomerID|       Country|\n",
      "+---------+---------+--------------------+--------+----------------+---------+----------+--------------+\n",
      "|   536365|   85123A|WHITE HANGING HEA...|       6|01/12/2010 08:26|     2.55|     17850|United Kingdom|\n",
      "|   536365|    71053| WHITE METAL LANTERN|       6|01/12/2010 08:26|     3.39|     17850|United Kingdom|\n",
      "|   536365|   84406B|CREAM CUPID HEART...|       8|01/12/2010 08:26|     2.75|     17850|United Kingdom|\n",
      "|   536365|   84029G|KNITTED UNION FLA...|       6|01/12/2010 08:26|     3.39|     17850|United Kingdom|\n",
      "|   536365|   84029E|RED WOOLLY HOTTIE...|       6|01/12/2010 08:26|     3.39|     17850|United Kingdom|\n",
      "|   536365|    22752|SET 7 BABUSHKA NE...|       2|01/12/2010 08:26|     7.65|     17850|United Kingdom|\n",
      "|   536365|    21730|GLASS STAR FROSTE...|       6|01/12/2010 08:26|     4.25|     17850|United Kingdom|\n",
      "|   536366|    22633|HAND WARMER UNION...|       6|01/12/2010 08:28|     1.85|     17850|United Kingdom|\n",
      "|   536366|    22632|HAND WARMER RED P...|       6|01/12/2010 08:28|     1.85|     17850|United Kingdom|\n",
      "|   536367|    84879|ASSORTED COLOUR B...|      32|01/12/2010 08:34|     1.69|     13047|United Kingdom|\n",
      "|   536367|    22745|POPPY'S PLAYHOUSE...|       6|01/12/2010 08:34|      2.1|     13047|United Kingdom|\n",
      "|   536367|    22748|POPPY'S PLAYHOUSE...|       6|01/12/2010 08:34|      2.1|     13047|United Kingdom|\n",
      "|   536367|    22749|FELTCRAFT PRINCES...|       8|01/12/2010 08:34|     3.75|     13047|United Kingdom|\n",
      "|   536367|    22310|IVORY KNITTED MUG...|       6|01/12/2010 08:34|     1.65|     13047|United Kingdom|\n",
      "|   536367|    84969|BOX OF 6 ASSORTED...|       6|01/12/2010 08:34|     4.25|     13047|United Kingdom|\n",
      "|   536367|    22623|BOX OF VINTAGE JI...|       3|01/12/2010 08:34|     4.95|     13047|United Kingdom|\n",
      "|   536367|    22622|BOX OF VINTAGE AL...|       2|01/12/2010 08:34|     9.95|     13047|United Kingdom|\n",
      "|   536367|    21754|HOME BUILDING BLO...|       3|01/12/2010 08:34|     5.95|     13047|United Kingdom|\n",
      "|   536367|    21755|LOVE BUILDING BLO...|       3|01/12/2010 08:34|     5.95|     13047|United Kingdom|\n",
      "|   536367|    21777|RECIPE BOX WITH M...|       4|01/12/2010 08:34|     7.95|     13047|United Kingdom|\n",
      "+---------+---------+--------------------+--------+----------------+---------+----------+--------------+\n",
      "only showing top 20 rows\n",
      "\n"
     ]
    }
   ],
   "source": [
    "data.show()"
   ]
  },
  {
   "cell_type": "code",
   "execution_count": 7,
   "metadata": {},
   "outputs": [],
   "source": [
    "#Drop missing value\n",
    "df = data.dropna()"
   ]
  },
  {
   "cell_type": "code",
   "execution_count": 8,
   "metadata": {},
   "outputs": [
    {
     "data": {
      "text/plain": [
       "406829"
      ]
     },
     "execution_count": 8,
     "metadata": {},
     "output_type": "execute_result"
    }
   ],
   "source": [
    "df.count()"
   ]
  },
  {
   "cell_type": "code",
   "execution_count": 9,
   "metadata": {},
   "outputs": [
    {
     "name": "stdout",
     "output_type": "stream",
     "text": [
      "+---------+---------+\n",
      "|InvoiceNo|StockCode|\n",
      "+---------+---------+\n",
      "|   536365|   85123A|\n",
      "|   536365|    71053|\n",
      "|   536365|   84406B|\n",
      "|   536365|   84029G|\n",
      "|   536365|   84029E|\n",
      "|   536365|    22752|\n",
      "|   536365|    21730|\n",
      "|   536366|    22633|\n",
      "|   536366|    22632|\n",
      "|   536367|    84879|\n",
      "|   536367|    22745|\n",
      "|   536367|    22748|\n",
      "|   536367|    22749|\n",
      "|   536367|    22310|\n",
      "|   536367|    84969|\n",
      "|   536367|    22623|\n",
      "|   536367|    22622|\n",
      "|   536367|    21754|\n",
      "|   536367|    21755|\n",
      "|   536367|    21777|\n",
      "+---------+---------+\n",
      "only showing top 20 rows\n",
      "\n"
     ]
    }
   ],
   "source": [
    "# Choose column InvoiceNo and StockCode\n",
    "df = df.select('InvoiceNo','StockCode')\n",
    "df.show()"
   ]
  },
  {
   "cell_type": "code",
   "execution_count": 10,
   "metadata": {},
   "outputs": [
    {
     "name": "stdout",
     "output_type": "stream",
     "text": [
      "+---------+--------------------+\n",
      "|InvoiceNo|               Items|\n",
      "+---------+--------------------+\n",
      "|   536938|[22112, 21931, 84...|\n",
      "|   537691|[22505, 46000R, 2...|\n",
      "|   538184|[22561, 22147, 21...|\n",
      "|   538517|[22749, 21212, 22...|\n",
      "|   538879|[21212, 22759, 22...|\n",
      "|   539275|[22083, 22150, 22...|\n",
      "|   539630|[22111, 22971, 22...|\n",
      "|   540499|[22697, 22796, 21...|\n",
      "|   540540|[22111, 22834, 22...|\n",
      "|   540976|[22413, 21212, 22...|\n",
      "|   541432|[22113, 22457, 21...|\n",
      "|   541518|[21212, 22432, 22...|\n",
      "|   541783|[22561, 22697, 22...|\n",
      "|   542026|[22398, 22194, 22...|\n",
      "|   542375|[22629, 21731, 22...|\n",
      "|   543641|[22645, 75131, 22...|\n",
      "|   544303|[84596L, 22931, 8...|\n",
      "|   545583|[22090, 21931, 22...|\n",
      "|   547122|[22090, 22434, 21...|\n",
      "|   548542|[22357, 21586, 22...|\n",
      "+---------+--------------------+\n",
      "only showing top 20 rows\n",
      "\n"
     ]
    }
   ],
   "source": [
    "from pyspark.sql import functions as F\n",
    "\n",
    "#Group items into list by InvoiceNo\n",
    "df = df.groupby(\"InvoiceNo\").agg(F.collect_set(\"StockCode\").alias('Items'))\n",
    "df.show()"
   ]
  },
  {
   "cell_type": "code",
   "execution_count": 11,
   "metadata": {},
   "outputs": [
    {
     "data": {
      "text/plain": [
       "22190"
      ]
     },
     "execution_count": 11,
     "metadata": {},
     "output_type": "execute_result"
    }
   ],
   "source": [
    "#Count of Distinct InvoiceNo\n",
    "df.count()"
   ]
  },
  {
   "cell_type": "markdown",
   "metadata": {},
   "source": [
    "## FP Growth"
   ]
  },
  {
   "cell_type": "code",
   "execution_count": 12,
   "metadata": {},
   "outputs": [],
   "source": [
    "from pyspark.ml.fpm import FPGrowth\n",
    "\n",
    "#First frequent itemset model with minimal support 0.01 and minimal confidence 0.3\n",
    "fg1 = FPGrowth(itemsCol=\"Items\", minSupport=0.01, minConfidence=0.3)\n",
    "model1 = fg1.fit(df)"
   ]
  },
  {
   "cell_type": "code",
   "execution_count": 13,
   "metadata": {},
   "outputs": [
    {
     "name": "stdout",
     "output_type": "stream",
     "text": [
      "+----------------+----+\n",
      "|           items|freq|\n",
      "+----------------+----+\n",
      "|        [15056N]| 384|\n",
      "|         [22846]| 266|\n",
      "|        [85123A]|2020|\n",
      "|         [22423]|1884|\n",
      "| [22423, 85123A]| 239|\n",
      "|         [22616]| 384|\n",
      "|         [21154]| 266|\n",
      "|        [85099B]|1643|\n",
      "|[85099B, 85123A]| 255|\n",
      "|         [21479]| 382|\n",
      "|         [22840]| 265|\n",
      "|         [22690]| 265|\n",
      "|         [47566]|1399|\n",
      "|  [47566, 22423]| 232|\n",
      "| [47566, 85123A]| 280|\n",
      "|         [21314]| 382|\n",
      "|         [84879]|1385|\n",
      "|  [84879, 22423]| 231|\n",
      "| [84879, 85123A]| 271|\n",
      "|         [22750]| 380|\n",
      "+----------------+----+\n",
      "only showing top 20 rows\n",
      "\n"
     ]
    }
   ],
   "source": [
    "# Display frequent itemsets\n",
    "model1.freqItemsets.show()"
   ]
  },
  {
   "cell_type": "code",
   "execution_count": 14,
   "metadata": {},
   "outputs": [
    {
     "name": "stdout",
     "output_type": "stream",
     "text": [
      "+---------------+----------+-------------------+\n",
      "|     antecedent|consequent|         confidence|\n",
      "+---------------+----------+-------------------+\n",
      "|        [22554]|   [22551]| 0.4966216216216216|\n",
      "|        [22554]|   [22556]|0.43243243243243246|\n",
      "|        [22960]|   [22961]|  0.322279792746114|\n",
      "| [20726, 22382]|   [20725]| 0.6356968215158925|\n",
      "|        [21977]|   [21212]| 0.5007407407407407|\n",
      "|        [21977]|   [84991]| 0.4148148148148148|\n",
      "|        [22699]|   [22423]| 0.5167464114832536|\n",
      "|        [22699]|   [22697]|  0.666267942583732|\n",
      "|        [22699]|   [22698]| 0.5394736842105263|\n",
      "|        [22866]|   [22867]| 0.5073684210526316|\n",
      "|        [22866]|   [22865]| 0.5915789473684211|\n",
      "|        [20723]|   [22355]|0.47023809523809523|\n",
      "|        [20723]|   [20724]| 0.5952380952380952|\n",
      "|[22386, 85099B]|   [21931]|0.40252707581227437|\n",
      "|[22386, 85099B]|  [85099F]|0.42057761732851984|\n",
      "| [23202, 23203]|  [85099B]| 0.5302325581395348|\n",
      "| [20726, 22384]|   [20725]| 0.7430340557275542|\n",
      "|        [22386]|   [23203]| 0.3009049773755656|\n",
      "|        [22386]|  [85099B]| 0.6266968325791855|\n",
      "|        [22386]|   [21931]| 0.3212669683257919|\n",
      "+---------------+----------+-------------------+\n",
      "only showing top 20 rows\n",
      "\n"
     ]
    }
   ],
   "source": [
    "# Display generated association rules\n",
    "model1.associationRules.show()"
   ]
  },
  {
   "cell_type": "code",
   "execution_count": 15,
   "metadata": {},
   "outputs": [
    {
     "name": "stdout",
     "output_type": "stream",
     "text": [
      "+---------+--------------------+--------------------+\n",
      "|InvoiceNo|               Items|          prediction|\n",
      "+---------+--------------------+--------------------+\n",
      "|   536938|[22112, 21931, 84...|[23203, 85099B, 8...|\n",
      "|   537691|[22505, 46000R, 2...|[22720, 21755, 85...|\n",
      "|   538184|[22561, 22147, 21...|                  []|\n",
      "|   538517|[22749, 21212, 22...|[21977, 21975, 84...|\n",
      "|   538879|[21212, 22759, 22...|      [84991, 21094]|\n",
      "|   539275|[22083, 22150, 22...|                  []|\n",
      "|   539630|[22111, 22971, 22...|[22386, 22112, 22...|\n",
      "|   540499|[22697, 22796, 21...|[22698, 21094, 21...|\n",
      "|   540540|[22111, 22834, 22...|[22112, 21485, 22...|\n",
      "|   540976|[22413, 21212, 22...|[22556, 85099B, 2...|\n",
      "|   541432|[22113, 22457, 21...|             [22111]|\n",
      "|   541518|[21212, 22432, 22...|[20725, 22355, 20...|\n",
      "|   541783|[22561, 22697, 22...|[22698, 22554, 22...|\n",
      "|   542026|[22398, 22194, 22...|             [21755]|\n",
      "|   542375|[22629, 21731, 22...|             [22630]|\n",
      "|   543641|[22645, 75131, 22...|                  []|\n",
      "|   544303|[84596L, 22931, 8...|[21212, 22720, 22...|\n",
      "|   545583|[22090, 21931, 22...|[22386, 22383, 20...|\n",
      "|   547122|[22090, 22434, 21...|             [22728]|\n",
      "|   548542|[22357, 21586, 22...|                  []|\n",
      "+---------+--------------------+--------------------+\n",
      "only showing top 20 rows\n",
      "\n"
     ]
    }
   ],
   "source": [
    "# Transform examines the input items against all the association rules and summarize the consequents as prediction\n",
    "model1.transform(df).show()"
   ]
  },
  {
   "cell_type": "code",
   "execution_count": 16,
   "metadata": {},
   "outputs": [],
   "source": [
    "#Second frequent itemset model with minimal support 0.05 and minimal confidence 0.5\n",
    "fg2 = FPGrowth(itemsCol=\"Items\", minSupport=0.05, minConfidence=0.5)\n",
    "model2 = fg2.fit(df)"
   ]
  },
  {
   "cell_type": "code",
   "execution_count": 17,
   "metadata": {},
   "outputs": [
    {
     "name": "stdout",
     "output_type": "stream",
     "text": [
      "+--------+----+\n",
      "|   items|freq|\n",
      "+--------+----+\n",
      "|[85123A]|2020|\n",
      "| [22423]|1884|\n",
      "|[85099B]|1643|\n",
      "| [47566]|1399|\n",
      "| [84879]|1385|\n",
      "| [20725]|1330|\n",
      "| [22720]|1218|\n",
      "|  [POST]|1194|\n",
      "+--------+----+\n",
      "\n"
     ]
    }
   ],
   "source": [
    "# Display frequent itemset\n",
    "model2.freqItemsets.show()"
   ]
  },
  {
   "cell_type": "code",
   "execution_count": 18,
   "metadata": {},
   "outputs": [
    {
     "name": "stdout",
     "output_type": "stream",
     "text": [
      "+----------+----------+----------+\n",
      "|antecedent|consequent|confidence|\n",
      "+----------+----------+----------+\n",
      "+----------+----------+----------+\n",
      "\n"
     ]
    }
   ],
   "source": [
    "# Display generated association rules\n",
    "model2.associationRules.show()"
   ]
  },
  {
   "cell_type": "code",
   "execution_count": 19,
   "metadata": {},
   "outputs": [
    {
     "name": "stdout",
     "output_type": "stream",
     "text": [
      "+---------+--------------------+----------+\n",
      "|InvoiceNo|               Items|prediction|\n",
      "+---------+--------------------+----------+\n",
      "|   536938|[22112, 21931, 84...|        []|\n",
      "|   537691|[22505, 46000R, 2...|        []|\n",
      "|   538184|[22561, 22147, 21...|        []|\n",
      "|   538517|[22749, 21212, 22...|        []|\n",
      "|   538879|[21212, 22759, 22...|        []|\n",
      "|   539275|[22083, 22150, 22...|        []|\n",
      "|   539630|[22111, 22971, 22...|        []|\n",
      "|   540499|[22697, 22796, 21...|        []|\n",
      "|   540540|[22111, 22834, 22...|        []|\n",
      "|   540976|[22413, 21212, 22...|        []|\n",
      "|   541432|[22113, 22457, 21...|        []|\n",
      "|   541518|[21212, 22432, 22...|        []|\n",
      "|   541783|[22561, 22697, 22...|        []|\n",
      "|   542026|[22398, 22194, 22...|        []|\n",
      "|   542375|[22629, 21731, 22...|        []|\n",
      "|   543641|[22645, 75131, 22...|        []|\n",
      "|   544303|[84596L, 22931, 8...|        []|\n",
      "|   545583|[22090, 21931, 22...|        []|\n",
      "|   547122|[22090, 22434, 21...|        []|\n",
      "|   548542|[22357, 21586, 22...|        []|\n",
      "+---------+--------------------+----------+\n",
      "only showing top 20 rows\n",
      "\n"
     ]
    }
   ],
   "source": [
    "# Transform examines the input items against all the association rules and summarize the consequents as prediction\n",
    "model2.transform(df).show()"
   ]
  },
  {
   "cell_type": "code",
   "execution_count": 20,
   "metadata": {},
   "outputs": [],
   "source": [
    "#Third frequent itemset model with minimal support 0.1 and minimal confidence 0.2\n",
    "fg3 = FPGrowth(itemsCol=\"Items\", minSupport=0.1, minConfidence=0.2)\n",
    "model3 = fg3.fit(df)"
   ]
  },
  {
   "cell_type": "code",
   "execution_count": 21,
   "metadata": {},
   "outputs": [
    {
     "name": "stdout",
     "output_type": "stream",
     "text": [
      "+-----+----+\n",
      "|items|freq|\n",
      "+-----+----+\n",
      "+-----+----+\n",
      "\n"
     ]
    }
   ],
   "source": [
    "#Display frequent itemset\n",
    "model3.freqItemsets.show()"
   ]
  },
  {
   "cell_type": "code",
   "execution_count": 22,
   "metadata": {},
   "outputs": [
    {
     "name": "stdout",
     "output_type": "stream",
     "text": [
      "+----------+----------+----------+\n",
      "|antecedent|consequent|confidence|\n",
      "+----------+----------+----------+\n",
      "+----------+----------+----------+\n",
      "\n"
     ]
    }
   ],
   "source": [
    "#Display generated association rules\n",
    "model3.associationRules.show()"
   ]
  },
  {
   "cell_type": "code",
   "execution_count": 23,
   "metadata": {},
   "outputs": [
    {
     "name": "stdout",
     "output_type": "stream",
     "text": [
      "+---------+--------------------+----------+\n",
      "|InvoiceNo|               Items|prediction|\n",
      "+---------+--------------------+----------+\n",
      "|   536938|[22112, 21931, 84...|        []|\n",
      "|   537691|[22505, 46000R, 2...|        []|\n",
      "|   538184|[22561, 22147, 21...|        []|\n",
      "|   538517|[22749, 21212, 22...|        []|\n",
      "|   538879|[21212, 22759, 22...|        []|\n",
      "|   539275|[22083, 22150, 22...|        []|\n",
      "|   539630|[22111, 22971, 22...|        []|\n",
      "|   540499|[22697, 22796, 21...|        []|\n",
      "|   540540|[22111, 22834, 22...|        []|\n",
      "|   540976|[22413, 21212, 22...|        []|\n",
      "|   541432|[22113, 22457, 21...|        []|\n",
      "|   541518|[21212, 22432, 22...|        []|\n",
      "|   541783|[22561, 22697, 22...|        []|\n",
      "|   542026|[22398, 22194, 22...|        []|\n",
      "|   542375|[22629, 21731, 22...|        []|\n",
      "|   543641|[22645, 75131, 22...|        []|\n",
      "|   544303|[84596L, 22931, 8...|        []|\n",
      "|   545583|[22090, 21931, 22...|        []|\n",
      "|   547122|[22090, 22434, 21...|        []|\n",
      "|   548542|[22357, 21586, 22...|        []|\n",
      "+---------+--------------------+----------+\n",
      "only showing top 20 rows\n",
      "\n"
     ]
    }
   ],
   "source": [
    "# Transform examines the input items against all the association rules and summarize the consequents as prediction\n",
    "model3.transform(df).show()"
   ]
  },
  {
   "cell_type": "code",
   "execution_count": 24,
   "metadata": {},
   "outputs": [],
   "source": [
    "#Fourth frequent itemset model with minimal support 0.03 and minimal confidence 0.3\n",
    "fg4 = FPGrowth(itemsCol=\"Items\", minSupport=0.03, minConfidence=0.3)\n",
    "model4 = fg4.fit(df)"
   ]
  },
  {
   "cell_type": "code",
   "execution_count": 25,
   "metadata": {},
   "outputs": [
    {
     "name": "stdout",
     "output_type": "stream",
     "text": [
      "+--------+----+\n",
      "|   items|freq|\n",
      "+--------+----+\n",
      "|[85123A]|2020|\n",
      "| [22423]|1884|\n",
      "|[85099B]|1643|\n",
      "| [47566]|1399|\n",
      "| [84879]|1385|\n",
      "| [20725]|1330|\n",
      "| [22720]|1218|\n",
      "|  [POST]|1194|\n",
      "| [23203]|1097|\n",
      "| [22197]|1085|\n",
      "| [20727]|1073|\n",
      "| [22383]|1063|\n",
      "| [21212]|1041|\n",
      "| [23298]|1021|\n",
      "| [23209]|1017|\n",
      "| [22382]|1001|\n",
      "| [22086]| 990|\n",
      "| [20728]| 989|\n",
      "| [22457]| 984|\n",
      "| [22469]| 972|\n",
      "+--------+----+\n",
      "only showing top 20 rows\n",
      "\n"
     ]
    }
   ],
   "source": [
    "#Display frequent itemset\n",
    "model4.freqItemsets.show()"
   ]
  },
  {
   "cell_type": "code",
   "execution_count": 26,
   "metadata": {},
   "outputs": [
    {
     "name": "stdout",
     "output_type": "stream",
     "text": [
      "+----------+----------+----------+\n",
      "|antecedent|consequent|confidence|\n",
      "+----------+----------+----------+\n",
      "+----------+----------+----------+\n",
      "\n"
     ]
    }
   ],
   "source": [
    "#Display generated association rules\n",
    "model4.associationRules.show()"
   ]
  },
  {
   "cell_type": "code",
   "execution_count": 27,
   "metadata": {},
   "outputs": [
    {
     "name": "stdout",
     "output_type": "stream",
     "text": [
      "+---------+--------------------+----------+\n",
      "|InvoiceNo|               Items|prediction|\n",
      "+---------+--------------------+----------+\n",
      "|   536938|[22112, 21931, 84...|        []|\n",
      "|   537691|[22505, 46000R, 2...|        []|\n",
      "|   538184|[22561, 22147, 21...|        []|\n",
      "|   538517|[22749, 21212, 22...|        []|\n",
      "|   538879|[21212, 22759, 22...|        []|\n",
      "|   539275|[22083, 22150, 22...|        []|\n",
      "|   539630|[22111, 22971, 22...|        []|\n",
      "|   540499|[22697, 22796, 21...|        []|\n",
      "|   540540|[22111, 22834, 22...|        []|\n",
      "|   540976|[22413, 21212, 22...|        []|\n",
      "|   541432|[22113, 22457, 21...|        []|\n",
      "|   541518|[21212, 22432, 22...|        []|\n",
      "|   541783|[22561, 22697, 22...|        []|\n",
      "|   542026|[22398, 22194, 22...|        []|\n",
      "|   542375|[22629, 21731, 22...|        []|\n",
      "|   543641|[22645, 75131, 22...|        []|\n",
      "|   544303|[84596L, 22931, 8...|        []|\n",
      "|   545583|[22090, 21931, 22...|        []|\n",
      "|   547122|[22090, 22434, 21...|        []|\n",
      "|   548542|[22357, 21586, 22...|        []|\n",
      "+---------+--------------------+----------+\n",
      "only showing top 20 rows\n",
      "\n"
     ]
    }
   ],
   "source": [
    "# Transform examines the input items against all the association rules and summarize the consequents as prediction\n",
    "model4.transform(df).show()"
   ]
  },
  {
   "cell_type": "code",
   "execution_count": 28,
   "metadata": {},
   "outputs": [],
   "source": [
    "#Fifth frequent itemset model with minimal support 0.02 and minimal confidence 0.3\n",
    "fg5 = FPGrowth(itemsCol=\"Items\", minSupport=0.02, minConfidence=0.3)\n",
    "model5 = fg5.fit(df)"
   ]
  },
  {
   "cell_type": "code",
   "execution_count": 29,
   "metadata": {},
   "outputs": [
    {
     "name": "stdout",
     "output_type": "stream",
     "text": [
      "+---------------+----+\n",
      "|          items|freq|\n",
      "+---------------+----+\n",
      "|       [85123A]|2020|\n",
      "|        [22423]|1884|\n",
      "|       [85099B]|1643|\n",
      "|        [47566]|1399|\n",
      "|        [84879]|1385|\n",
      "|        [20725]|1330|\n",
      "|        [22720]|1218|\n",
      "|         [POST]|1194|\n",
      "|        [23203]|1097|\n",
      "|[23203, 85099B]| 473|\n",
      "|        [22197]|1085|\n",
      "|        [20727]|1073|\n",
      "| [20727, 20725]| 523|\n",
      "|        [22383]|1063|\n",
      "| [22383, 20725]| 526|\n",
      "| [22383, 20727]| 467|\n",
      "|        [21212]|1041|\n",
      "|        [23298]|1021|\n",
      "|        [23209]|1017|\n",
      "| [23209, 23203]| 444|\n",
      "+---------------+----+\n",
      "only showing top 20 rows\n",
      "\n"
     ]
    }
   ],
   "source": [
    "#Display frequent itemset\n",
    "model5.freqItemsets.show()"
   ]
  },
  {
   "cell_type": "code",
   "execution_count": 30,
   "metadata": {},
   "outputs": [
    {
     "name": "stdout",
     "output_type": "stream",
     "text": [
      "+----------+----------+-------------------+\n",
      "|antecedent|consequent|         confidence|\n",
      "+----------+----------+-------------------+\n",
      "|   [22699]|   [22697]|  0.666267942583732|\n",
      "|   [22699]|   [22698]| 0.5394736842105263|\n",
      "|   [22386]|  [85099B]| 0.6266968325791855|\n",
      "|   [20727]|   [20725]| 0.4874184529356943|\n",
      "|   [20727]|   [22383]|0.43522833178005593|\n",
      "|   [20727]|   [22384]|0.43522833178005593|\n",
      "|   [22382]|   [22383]|0.45054945054945056|\n",
      "|   [22382]|   [20725]| 0.4695304695304695|\n",
      "|   [20725]|   [20727]|0.39323308270676693|\n",
      "|   [20725]|   [22383]| 0.3954887218045113|\n",
      "|   [20725]|   [22382]| 0.3533834586466165|\n",
      "|   [20725]|   [20728]|0.35037593984962406|\n",
      "|   [20725]|   [22384]|0.39849624060150374|\n",
      "|   [22384]|   [20725]| 0.5573080967402734|\n",
      "|   [22384]|   [20727]|  0.491062039957939|\n",
      "|   [22910]|   [22086]| 0.6403385049365303|\n",
      "|   [23209]|   [23203]| 0.4365781710914454|\n",
      "|  [85099B]|   [22386]| 0.3371880706025563|\n",
      "|   [22726]|   [22727]| 0.6625463535228677|\n",
      "|   [22383]|   [20725]|0.49482596425211667|\n",
      "+----------+----------+-------------------+\n",
      "only showing top 20 rows\n",
      "\n"
     ]
    }
   ],
   "source": [
    "#Display generated association rules\n",
    "model5.associationRules.show()"
   ]
  },
  {
   "cell_type": "code",
   "execution_count": 31,
   "metadata": {},
   "outputs": [
    {
     "name": "stdout",
     "output_type": "stream",
     "text": [
      "+---------+--------------------+--------------------+\n",
      "|InvoiceNo|               Items|          prediction|\n",
      "+---------+--------------------+--------------------+\n",
      "|   536938|[22112, 21931, 84...|            [85099B]|\n",
      "|   537691|[22505, 46000R, 2...|                  []|\n",
      "|   538184|[22561, 22147, 21...|                  []|\n",
      "|   538517|[22749, 21212, 22...|                  []|\n",
      "|   538879|[21212, 22759, 22...|                  []|\n",
      "|   539275|[22083, 22150, 22...|                  []|\n",
      "|   539630|[22111, 22971, 22...|             [22386]|\n",
      "|   540499|[22697, 22796, 21...|             [22698]|\n",
      "|   540540|[22111, 22834, 22...|                  []|\n",
      "|   540976|[22413, 21212, 22...|                  []|\n",
      "|   541432|[22113, 22457, 21...|                  []|\n",
      "|   541518|[21212, 22432, 22...|[22386, 22383, 20...|\n",
      "|   541783|[22561, 22697, 22...|             [22698]|\n",
      "|   542026|[22398, 22194, 22...|                  []|\n",
      "|   542375|[22629, 21731, 22...|                  []|\n",
      "|   543641|[22645, 75131, 22...|                  []|\n",
      "|   544303|[84596L, 22931, 8...|                  []|\n",
      "|   545583|[22090, 21931, 22...|             [22386]|\n",
      "|   547122|[22090, 22434, 21...|                  []|\n",
      "|   548542|[22357, 21586, 22...|                  []|\n",
      "+---------+--------------------+--------------------+\n",
      "only showing top 20 rows\n",
      "\n"
     ]
    }
   ],
   "source": [
    "# Transform examines the input items against all the association rules and summarize the consequents as prediction\n",
    "model5.transform(df).show()"
   ]
  },
  {
   "cell_type": "markdown",
   "metadata": {},
   "source": [
    "### Summary"
   ]
  },
  {
   "cell_type": "markdown",
   "metadata": {},
   "source": [
    "With count function, we got the frequency of association rules and frequent itemset with different value of minimal support and minimal confidence"
   ]
  },
  {
   "cell_type": "markdown",
   "metadata": {},
   "source": [
    "| Minimal Support | Minimal Confidence | Frequent Itemset | Association Rules |\n",
    "| --- | --- | --- | --- |\n",
    "| 0.01 | 0.3 | 777 | 418 |\n",
    "| 0.02 | 0.3 | 182 | 38 |\n",
    "| 0.03 | 0.3 | 63 | 0 |\n",
    "| 0.05 | 0.5 | 8 | 0 |\n",
    "| 0.1 | 0.2 | 0 | 0 |"
   ]
  }
 ],
 "metadata": {
  "kernelspec": {
   "display_name": "Python 3",
   "language": "python",
   "name": "python3"
  },
  "language_info": {
   "codemirror_mode": {
    "name": "ipython",
    "version": 3
   },
   "file_extension": ".py",
   "mimetype": "text/x-python",
   "name": "python",
   "nbconvert_exporter": "python",
   "pygments_lexer": "ipython3",
   "version": "3.7.1"
  }
 },
 "nbformat": 4,
 "nbformat_minor": 2
}
