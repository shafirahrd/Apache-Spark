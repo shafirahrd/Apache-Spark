{
 "cells": [
  {
   "cell_type": "markdown",
   "metadata": {},
   "source": [
    "## DATASET"
   ]
  },
  {
   "cell_type": "markdown",
   "metadata": {},
   "source": [
    "Amazon reviews: Kindle Store Category\n",
    "    \n",
    "    https://www.kaggle.com/bharadwaj6/kindle-reviews"
   ]
  },
  {
   "cell_type": "markdown",
   "metadata": {},
   "source": [
    "## Initialization"
   ]
  },
  {
   "cell_type": "code",
   "execution_count": 1,
   "metadata": {},
   "outputs": [],
   "source": [
    "# Import findspark to read SPARK_HOME and HADOOP_HOME\n",
    "\n",
    "import findspark\n",
    "findspark.init()"
   ]
  },
  {
   "cell_type": "code",
   "execution_count": 2,
   "metadata": {},
   "outputs": [],
   "source": [
    "# Import required library\n",
    "\n",
    "from pyspark.sql import SparkSession\n",
    "\n",
    "# Create Spark Session\n",
    "spark = SparkSession \\\n",
    "    .builder \\\n",
    "    .appName(\"Python Spark SQL Recommendation Systems\") \\\n",
    "    .getOrCreate()"
   ]
  },
  {
   "cell_type": "code",
   "execution_count": 3,
   "metadata": {},
   "outputs": [
    {
     "name": "stdout",
     "output_type": "stream",
     "text": [
      "<pyspark.sql.session.SparkSession object at 0x000001654F1A65C0>\n"
     ]
    }
   ],
   "source": [
    "# Print Spark object ID\n",
    "print(spark)"
   ]
  },
  {
   "cell_type": "markdown",
   "metadata": {},
   "source": [
    "## Loading Data & Pre Processing"
   ]
  },
  {
   "cell_type": "code",
   "execution_count": 4,
   "metadata": {},
   "outputs": [],
   "source": [
    "# Import Dataset Amazon Reviews of Kindle Store Category\n",
    "data = spark.read.csv(\"kindle_reviews.csv\", header=True, inferSchema=True)"
   ]
  },
  {
   "cell_type": "code",
   "execution_count": 5,
   "metadata": {},
   "outputs": [
    {
     "data": {
      "text/plain": [
       "982820"
      ]
     },
     "execution_count": 5,
     "metadata": {},
     "output_type": "execute_result"
    }
   ],
   "source": [
    "data.count()"
   ]
  },
  {
   "cell_type": "code",
   "execution_count": 6,
   "metadata": {},
   "outputs": [],
   "source": [
    "#Drop missing value\n",
    "df = data.dropna()"
   ]
  },
  {
   "cell_type": "code",
   "execution_count": 7,
   "metadata": {},
   "outputs": [
    {
     "data": {
      "text/plain": [
       "978657"
      ]
     },
     "execution_count": 7,
     "metadata": {},
     "output_type": "execute_result"
    }
   ],
   "source": [
    "df.count()"
   ]
  },
  {
   "cell_type": "code",
   "execution_count": 8,
   "metadata": {},
   "outputs": [
    {
     "name": "stdout",
     "output_type": "stream",
     "text": [
      "+---+----------+-------+-------+--------------------+--------------------+--------------------+--------------------+--------------------+--------------------+\n",
      "|_c0|      asin|helpful|overall|          reviewText|          reviewTime|          reviewerID|        reviewerName|             summary|      unixReviewTime|\n",
      "+---+----------+-------+-------+--------------------+--------------------+--------------------+--------------------+--------------------+--------------------+\n",
      "|  0|B000F83SZQ| [0, 0]|      5|I enjoy vintage b...|          05 5, 2014|      A1F6404F1VG29J|          Avidreader|  Nice vintage story|          1399248000|\n",
      "|  1|B000F83SZQ| [2, 2]|      4|This book is a re...|          01 6, 2014|       AN0N05A9LIJEQ|            critters|        Different...|          1388966400|\n",
      "|  2|B000F83SZQ| [2, 2]|      4|This was a fairly...|          04 4, 2014|       A795DMNCJILA6|                 dot|               Oldie|          1396569600|\n",
      "|  3|B000F83SZQ| [1, 1]|      5|I'd never read an...|         02 19, 2014|      A1FV0SX13TWVXQ|\"Elaine H. Turley...|  I really liked it.|          1392768000|\n",
      "|  4|B000F83SZQ| [0, 1]|      4|If you like perio...|         03 19, 2014|      A3SPTOKDG7WBLN|  Father Dowling Fan|      Period Mystery|          1395187200|\n",
      "|  5|B000F83SZQ| [0, 0]|      4|A beautiful in-de...|         05 26, 2014|      A1RK2OCZDSGC6R|    ubavka seirovska|              Review|          1401062400|\n",
      "|  6|B000F83SZQ| [0, 0]|      4|I enjoyed this on...|         06 10, 2014|      A2HSAKHC3IBRE6|            Wolfmist|Nice old fashione...|          1402358400|\n",
      "|  7|B000F83SZQ| [1, 1]|      4|Never heard of Am...|         03 22, 2014|      A3DE6XGZ2EPADS|                 WPY|Enjoyable reading...|          1395446400|\n",
      "|  8|B000FA64PA| [0, 0]|      5|Darth Maul workin...|         10 11, 2013|      A1UG4Q4D3OAH3A|                 dsa|          Darth Maul|          1381449600|\n",
      "|  9|B000FA64PA| [0, 0]|      4|This is a short s...|         02 13, 2011|       AQZH7YTWQPOBE|            Enjolras|Not bad, not exce...|          1297555200|\n",
      "| 10|B000FA64PA| [0, 0]|      5|I think I have th...|         01 27, 2014|      A1ZT7WV0ZUA0OJ|                Mike|      Audio and book|          1390780800|\n",
      "| 11|B000FA64PA| [0, 0]|      4|Title has nothing...|         09 17, 2011|      A2ZFR72PT054YS|          monkeyluis|Darth Maul...the ...|          1316217600|\n",
      "| 12|B000FA64PA| [0, 0]|      3|Well written. Int...|         12 31, 2013|       A2QK1U70OJ74P|         Sharon Deem|Not bad; it is we...|          1388448000|\n",
      "| 13|B000FA64PK| [0, 0]|      3|Troy Denning's no...|         03 15, 2012|      A3SZMGJMV0G16C|\"Andrew Pruette \"...|Han and Leia reun...|          1331769600|\n",
      "| 14|B000FA64PK| [0, 0]|      5|I am not for sure...|         05 12, 2013|      A3H8PE1UFK04JZ|         Caleb Watts|  Possibly Important|          1368316800|\n",
      "| 15|B000FA64PK| [0, 0]|      5|I really enjoyed ...|          01 2, 2014|      A2EN84QHDRZLP2|          Carl craft|        Another read|          1388620800|\n",
      "| 16|B000FA64PK| [0, 0]|      5|Great read enjoye...|         10 29, 2013|      A1UG4Q4D3OAH3A|                 dsa|            Recovery|          1383004800|\n",
      "| 17|B000FA64PK| [4, 4]|      3|Another well writ...|         04 16, 2009|      A38Z3Q6DTDIH9J|\"Jimmy J. Shaw \"\"...|Star Wars: The Ne...|          1239840000|\n",
      "| 18|B000FA64PK| [0, 1]|      5|This one promises...|         01 27, 2014|      A1ZT7WV0ZUA0OJ|                Mike|       my collection|          1390780800|\n",
      "| 19|B000FA64PK| [0, 0]|      4|\"I have a version...|\"\" so I downloade...| it surely failed...|   like in the DVD's| where it's bille...| but probably not...|\n",
      "+---+----------+-------+-------+--------------------+--------------------+--------------------+--------------------+--------------------+--------------------+\n",
      "only showing top 20 rows\n",
      "\n"
     ]
    }
   ],
   "source": [
    "df.show()"
   ]
  },
  {
   "cell_type": "code",
   "execution_count": 9,
   "metadata": {},
   "outputs": [
    {
     "name": "stdout",
     "output_type": "stream",
     "text": [
      "+----------+--------------------+-------+\n",
      "|      asin|          reviewerID|overall|\n",
      "+----------+--------------------+-------+\n",
      "|B000F83SZQ|      A1F6404F1VG29J|      5|\n",
      "|B000F83SZQ|       AN0N05A9LIJEQ|      4|\n",
      "|B000F83SZQ|       A795DMNCJILA6|      4|\n",
      "|B000F83SZQ|      A1FV0SX13TWVXQ|      5|\n",
      "|B000F83SZQ|      A3SPTOKDG7WBLN|      4|\n",
      "|B000F83SZQ|      A1RK2OCZDSGC6R|      4|\n",
      "|B000F83SZQ|      A2HSAKHC3IBRE6|      4|\n",
      "|B000F83SZQ|      A3DE6XGZ2EPADS|      4|\n",
      "|B000FA64PA|      A1UG4Q4D3OAH3A|      5|\n",
      "|B000FA64PA|       AQZH7YTWQPOBE|      4|\n",
      "|B000FA64PA|      A1ZT7WV0ZUA0OJ|      5|\n",
      "|B000FA64PA|      A2ZFR72PT054YS|      4|\n",
      "|B000FA64PA|       A2QK1U70OJ74P|      3|\n",
      "|B000FA64PK|      A3SZMGJMV0G16C|      3|\n",
      "|B000FA64PK|      A3H8PE1UFK04JZ|      5|\n",
      "|B000FA64PK|      A2EN84QHDRZLP2|      5|\n",
      "|B000FA64PK|      A1UG4Q4D3OAH3A|      5|\n",
      "|B000FA64PK|      A38Z3Q6DTDIH9J|      3|\n",
      "|B000FA64PK|      A1ZT7WV0ZUA0OJ|      5|\n",
      "|B000FA64PK| it surely failed...|      4|\n",
      "+----------+--------------------+-------+\n",
      "only showing top 20 rows\n",
      "\n"
     ]
    }
   ],
   "source": [
    "#Select only used column for colaborative filtering\n",
    "df2 = df.select('asin','reviewerID','overall')\n",
    "df2.show()"
   ]
  },
  {
   "cell_type": "code",
   "execution_count": 10,
   "metadata": {},
   "outputs": [
    {
     "name": "stdout",
     "output_type": "stream",
     "text": [
      "+----------+--------------------+-------+----------------+----------+\n",
      "|      asin|          reviewerID|overall|reviewerID_index|asin_index|\n",
      "+----------+--------------------+-------+----------------+----------+\n",
      "|B000F83SZQ|      A1F6404F1VG29J|      5|         19786.0|   38086.0|\n",
      "|B000F83SZQ|       AN0N05A9LIJEQ|      4|          2070.0|   38086.0|\n",
      "|B000F83SZQ|       A795DMNCJILA6|      4|          8162.0|   38086.0|\n",
      "|B000F83SZQ|      A1FV0SX13TWVXQ|      5|          9256.0|   38086.0|\n",
      "|B000F83SZQ|      A3SPTOKDG7WBLN|      4|         34056.0|   38086.0|\n",
      "|B000F83SZQ|      A1RK2OCZDSGC6R|      4|         35261.0|   38086.0|\n",
      "|B000F83SZQ|      A2HSAKHC3IBRE6|      4|          1171.0|   38086.0|\n",
      "|B000F83SZQ|      A3DE6XGZ2EPADS|      4|         15433.0|   38086.0|\n",
      "|B000FA64PA|      A1UG4Q4D3OAH3A|      5|         36693.0|   58017.0|\n",
      "|B000FA64PA|       AQZH7YTWQPOBE|      4|         68644.0|   58017.0|\n",
      "|B000FA64PA|      A1ZT7WV0ZUA0OJ|      5|         47726.0|   58017.0|\n",
      "|B000FA64PA|      A2ZFR72PT054YS|      4|         35831.0|   58017.0|\n",
      "|B000FA64PA|       A2QK1U70OJ74P|      3|         60060.0|   58017.0|\n",
      "|B000FA64PK|      A3SZMGJMV0G16C|      3|         53121.0|   36896.0|\n",
      "|B000FA64PK|      A3H8PE1UFK04JZ|      5|         47500.0|   36896.0|\n",
      "|B000FA64PK|      A2EN84QHDRZLP2|      5|         41707.0|   36896.0|\n",
      "|B000FA64PK|      A1UG4Q4D3OAH3A|      5|         36693.0|   36896.0|\n",
      "|B000FA64PK|      A38Z3Q6DTDIH9J|      3|         61772.0|   36896.0|\n",
      "|B000FA64PK|      A1ZT7WV0ZUA0OJ|      5|         47726.0|   36896.0|\n",
      "|B000FA64PK| it surely failed...|      4|        101445.0|   36896.0|\n",
      "+----------+--------------------+-------+----------------+----------+\n",
      "only showing top 20 rows\n",
      "\n"
     ]
    }
   ],
   "source": [
    "# Convert string column into numberic type for ALS algorithm\n",
    "\n",
    "from pyspark.ml import Pipeline\n",
    "from pyspark.ml.feature import StringIndexer\n",
    "\n",
    "indexers = [StringIndexer(inputCol=column, outputCol=column+\"_index\").fit(df2) for column in list(set(df2.columns)-set(['overall']))]\n",
    "\n",
    "pipeline = Pipeline(stages=indexers)\n",
    "indexed = pipeline.fit(df2).transform(df2)\n",
    "\n",
    "indexed.show()"
   ]
  },
  {
   "cell_type": "code",
   "execution_count": 11,
   "metadata": {},
   "outputs": [
    {
     "name": "stdout",
     "output_type": "stream",
     "text": [
      "+----------+----------------+-------+\n",
      "|asin_index|reviewerID_index|overall|\n",
      "+----------+----------------+-------+\n",
      "|   38086.0|         19786.0|      5|\n",
      "|   38086.0|          2070.0|      4|\n",
      "|   38086.0|          8162.0|      4|\n",
      "|   38086.0|          9256.0|      5|\n",
      "|   38086.0|         34056.0|      4|\n",
      "|   38086.0|         35261.0|      4|\n",
      "|   38086.0|          1171.0|      4|\n",
      "|   38086.0|         15433.0|      4|\n",
      "|   58017.0|         36693.0|      5|\n",
      "|   58017.0|         68644.0|      4|\n",
      "|   58017.0|         47726.0|      5|\n",
      "|   58017.0|         35831.0|      4|\n",
      "|   58017.0|         60060.0|      3|\n",
      "|   36896.0|         53121.0|      3|\n",
      "|   36896.0|         47500.0|      5|\n",
      "|   36896.0|         41707.0|      5|\n",
      "|   36896.0|         36693.0|      5|\n",
      "|   36896.0|         61772.0|      3|\n",
      "|   36896.0|         47726.0|      5|\n",
      "|   36896.0|        101445.0|      4|\n",
      "+----------+----------------+-------+\n",
      "only showing top 20 rows\n",
      "\n"
     ]
    }
   ],
   "source": [
    "df3 = indexed.select('asin_index','reviewerID_index','overall')\n",
    "df3.show()"
   ]
  },
  {
   "cell_type": "markdown",
   "metadata": {},
   "source": [
    "## Model with ALS"
   ]
  },
  {
   "cell_type": "code",
   "execution_count": 12,
   "metadata": {},
   "outputs": [],
   "source": [
    "(training, test) = df3.randomSplit([0.8, 0.2])"
   ]
  },
  {
   "cell_type": "code",
   "execution_count": 13,
   "metadata": {},
   "outputs": [],
   "source": [
    "from pyspark.ml.evaluation import RegressionEvaluator\n",
    "from pyspark.ml.recommendation import ALS\n",
    "\n",
    "# Build the recommendation model using ALS on the training data\n",
    "# Note we set cold start strategy to 'drop' to ensure we don't get NaN evaluation metrics\n",
    "als = ALS(maxIter=5, regParam=0.01, userCol=\"reviewerID_index\", itemCol=\"asin_index\", ratingCol=\"overall\",\n",
    "          coldStartStrategy=\"drop\")\n",
    "model = als.fit(training)"
   ]
  },
  {
   "cell_type": "code",
   "execution_count": 14,
   "metadata": {},
   "outputs": [
    {
     "name": "stdout",
     "output_type": "stream",
     "text": [
      "Root-mean-square error = 4.724202440635187\n"
     ]
    }
   ],
   "source": [
    "# Evaluate the model by computing the RMSE on the test data\n",
    "predictions = model.transform(test)\n",
    "evaluator = RegressionEvaluator(metricName=\"rmse\", labelCol=\"overall\",\n",
    "                                predictionCol=\"prediction\")\n",
    "rmse = evaluator.evaluate(predictions)\n",
    "print(\"Root-mean-square error = \" + str(rmse))"
   ]
  },
  {
   "cell_type": "code",
   "execution_count": 15,
   "metadata": {},
   "outputs": [
    {
     "name": "stdout",
     "output_type": "stream",
     "text": [
      "+----------+--------------------+\n",
      "|asin_index|     recommendations|\n",
      "+----------+--------------------+\n",
      "|       148|[[14731, 23.45349...|\n",
      "|       463|[[19287, 25.64172...|\n",
      "|       471|[[19448, 23.35985...|\n",
      "|       496|[[16873, 28.33516...|\n",
      "|       833|[[14084, 41.93853...|\n",
      "|      1088|[[18258, 16.16814...|\n",
      "|      1238|[[28944, 25.72022...|\n",
      "|      1342|[[19448, 25.47693...|\n",
      "|      1580|[[13385, 29.41845...|\n",
      "|      1591|[[32796, 26.12643...|\n",
      "|      1645|[[12503, 30.78527...|\n",
      "|      1829|[[28317, 39.39565...|\n",
      "|      1959|[[15822, 23.56037...|\n",
      "|      2122|[[25768, 36.85136...|\n",
      "|      2142|[[14084, 49.70704...|\n",
      "|      2366|[[32958, 35.49619...|\n",
      "|      2659|[[17802, 30.64790...|\n",
      "|      2866|[[20957, 25.81566...|\n",
      "|      3175|[[28616, 30.14335...|\n",
      "|      3749|[[9828, 28.906378...|\n",
      "+----------+--------------------+\n",
      "only showing top 20 rows\n",
      "\n"
     ]
    }
   ],
   "source": [
    "# Generate top 10 user recommendations for each kindle\n",
    "kindleRecs = model.recommendForAllItems(10)\n",
    "kindleRecs.show()"
   ]
  },
  {
   "cell_type": "code",
   "execution_count": 16,
   "metadata": {},
   "outputs": [
    {
     "name": "stdout",
     "output_type": "stream",
     "text": [
      "+----------------+--------------------+\n",
      "|reviewerID_index|     recommendations|\n",
      "+----------------+--------------------+\n",
      "|             148|[[28268, 9.548618...|\n",
      "|             463|[[9181, 13.729944...|\n",
      "|             471|[[19997, 18.1739]...|\n",
      "|             496|[[12659, 19.33063...|\n",
      "|             833|[[15131, 13.66852...|\n",
      "|            1088|[[20863, 12.56752...|\n",
      "|            1238|[[34577, 11.18894...|\n",
      "|            1342|[[18337, 14.15636...|\n",
      "|            1580|[[15953, 15.79888...|\n",
      "|            1591|[[13615, 11.84372...|\n",
      "|            1645|[[29634, 12.05676...|\n",
      "|            1829|[[12702, 13.27963...|\n",
      "|            1959|[[8588, 21.006062...|\n",
      "|            2122|[[28674, 14.98121...|\n",
      "|            2142|[[39159, 19.46223...|\n",
      "|            2366|[[20751, 18.72396...|\n",
      "|            2659|[[41959, 18.69562...|\n",
      "|            2866|[[18207, 27.77227...|\n",
      "|            3175|[[21440, 20.63795...|\n",
      "|            3749|[[17587, 13.57192...|\n",
      "+----------------+--------------------+\n",
      "only showing top 20 rows\n",
      "\n"
     ]
    }
   ],
   "source": [
    "# Generate top 10 kindle recommendations for each user\n",
    "userRecs = model.recommendForAllUsers(10)\n",
    "userRecs.show()"
   ]
  },
  {
   "cell_type": "code",
   "execution_count": null,
   "metadata": {},
   "outputs": [],
   "source": []
  }
 ],
 "metadata": {
  "kernelspec": {
   "display_name": "Python 3",
   "language": "python",
   "name": "python3"
  },
  "language_info": {
   "codemirror_mode": {
    "name": "ipython",
    "version": 3
   },
   "file_extension": ".py",
   "mimetype": "text/x-python",
   "name": "python",
   "nbconvert_exporter": "python",
   "pygments_lexer": "ipython3",
   "version": "3.7.1"
  }
 },
 "nbformat": 4,
 "nbformat_minor": 2
}
