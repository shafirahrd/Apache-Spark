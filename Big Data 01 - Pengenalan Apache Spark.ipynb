{
 "cells": [
  {
   "cell_type": "markdown",
   "metadata": {},
   "source": [
    "# DATASET"
   ]
  },
  {
   "cell_type": "markdown",
   "metadata": {},
   "source": [
    "#### Source : https://www.kaggle.com/san-francisco/sf-building-permits-and-contacts"
   ]
  },
  {
   "cell_type": "markdown",
   "metadata": {},
   "source": [
    "#### Data includes application/permit numbers, contact name, address, and license numbers. Data is uploaded weekly by DBI. This data set is intended to be joined to the Building Permits data set."
   ]
  },
  {
   "cell_type": "raw",
   "metadata": {},
   "source": []
  },
  {
   "cell_type": "markdown",
   "metadata": {},
   "source": [
    "# Initialization"
   ]
  },
  {
   "cell_type": "code",
   "execution_count": 1,
   "metadata": {},
   "outputs": [],
   "source": [
    "# Import findspark to read SPARK_HOME and HADOOP_HOME\n",
    "\n",
    "import findspark\n",
    "findspark.init()"
   ]
  },
  {
   "cell_type": "code",
   "execution_count": 2,
   "metadata": {},
   "outputs": [],
   "source": [
    "# Import required library\n",
    "\n",
    "from pyspark.sql import SparkSession\n",
    "\n",
    "# Create Spark Session\n",
    "spark = SparkSession \\\n",
    "    .builder \\\n",
    "    .appName(\"Python Spark SQL basic example\") \\\n",
    "    .getOrCreate()"
   ]
  },
  {
   "cell_type": "code",
   "execution_count": 3,
   "metadata": {},
   "outputs": [
    {
     "name": "stdout",
     "output_type": "stream",
     "text": [
      "<pyspark.sql.session.SparkSession object at 0x0000024AB5FCBAC8>\n"
     ]
    }
   ],
   "source": [
    "# Print Spark object ID\n",
    "print(spark)"
   ]
  },
  {
   "cell_type": "raw",
   "metadata": {},
   "source": []
  },
  {
   "cell_type": "markdown",
   "metadata": {},
   "source": [
    "# Loading Data"
   ]
  },
  {
   "cell_type": "code",
   "execution_count": 4,
   "metadata": {},
   "outputs": [],
   "source": [
    "# Import Dataset Business Licenses & Owners\n",
    "df = spark.read.csv(\"C://Users//RPL-ICHAL//Documents//Bonbon//building-permits.csv\", header=True, inferSchema=True)\n",
    "df2 = spark.read.csv(\"C://Users//RPL-ICHAL//Documents//Bonbon//building-permits-contacts.csv\", header=True, inferSchema=True)"
   ]
  },
  {
   "cell_type": "code",
   "execution_count": 5,
   "metadata": {},
   "outputs": [
    {
     "data": {
      "text/plain": [
       "1091782"
      ]
     },
     "execution_count": 5,
     "metadata": {},
     "output_type": "execute_result"
    }
   ],
   "source": [
    "df.count()"
   ]
  },
  {
   "cell_type": "code",
   "execution_count": 6,
   "metadata": {},
   "outputs": [
    {
     "data": {
      "text/plain": [
       "638155"
      ]
     },
     "execution_count": 6,
     "metadata": {},
     "output_type": "execute_result"
    }
   ],
   "source": [
    "df2.count()"
   ]
  },
  {
   "cell_type": "code",
   "execution_count": 7,
   "metadata": {},
   "outputs": [
    {
     "name": "stdout",
     "output_type": "stream",
     "text": [
      "root\n",
      " |-- Permit Number: string (nullable = true)\n",
      " |-- Permit Type: integer (nullable = true)\n",
      " |-- Permit Type Definition: string (nullable = true)\n",
      " |-- Permit Creation Date: timestamp (nullable = true)\n",
      " |-- Block: string (nullable = true)\n",
      " |-- Lot: string (nullable = true)\n",
      " |-- Street Number: integer (nullable = true)\n",
      " |-- Street Number Suffix: string (nullable = true)\n",
      " |-- Street Name: string (nullable = true)\n",
      " |-- Street Suffix: string (nullable = true)\n",
      " |-- Unit: integer (nullable = true)\n",
      " |-- Unit Suffix: string (nullable = true)\n",
      " |-- Description: string (nullable = true)\n",
      " |-- Current Status: string (nullable = true)\n",
      " |-- Current Status Date: string (nullable = true)\n",
      " |-- Filed Date: string (nullable = true)\n",
      " |-- Issued Date: string (nullable = true)\n",
      " |-- Completed Date: string (nullable = true)\n",
      " |-- First Construction Document Date: string (nullable = true)\n",
      " |-- Structural Notification: string (nullable = true)\n",
      " |-- Number of Existing Stories: string (nullable = true)\n",
      " |-- Number of Proposed Stories: string (nullable = true)\n",
      " |-- Voluntary Soft-Story Retrofit: string (nullable = true)\n",
      " |-- Fire Only Permit: string (nullable = true)\n",
      " |-- Permit Expiration Date: string (nullable = true)\n",
      " |-- Estimated Cost: string (nullable = true)\n",
      " |-- Revised Cost: string (nullable = true)\n",
      " |-- Existing Use: string (nullable = true)\n",
      " |-- Existing Units: string (nullable = true)\n",
      " |-- Proposed Use: string (nullable = true)\n",
      " |-- Proposed Units: string (nullable = true)\n",
      " |-- Plansets: string (nullable = true)\n",
      " |-- TIDF Compliance: string (nullable = true)\n",
      " |-- Existing Construction Type: string (nullable = true)\n",
      " |-- Existing Construction Type Description: string (nullable = true)\n",
      " |-- Proposed Construction Type: string (nullable = true)\n",
      " |-- Proposed Construction Type Description: string (nullable = true)\n",
      " |-- Site Permit: string (nullable = true)\n",
      " |-- Supervisor District: string (nullable = true)\n",
      " |-- Neighborhoods - Analysis Boundaries: string (nullable = true)\n",
      " |-- Zipcode: string (nullable = true)\n",
      " |-- Location: string (nullable = true)\n",
      " |-- Record ID: string (nullable = true)\n",
      "\n"
     ]
    }
   ],
   "source": [
    "df.printSchema()"
   ]
  },
  {
   "cell_type": "code",
   "execution_count": 8,
   "metadata": {},
   "outputs": [
    {
     "name": "stdout",
     "output_type": "stream",
     "text": [
      "root\n",
      " |-- ID: integer (nullable = true)\n",
      " |-- Permit Number: string (nullable = true)\n",
      " |-- First Name: string (nullable = true)\n",
      " |-- Last Name: string (nullable = true)\n",
      " |-- Role: string (nullable = true)\n",
      " |-- Agent Address: string (nullable = true)\n",
      " |-- Agent Address2: string (nullable = true)\n",
      " |-- City: string (nullable = true)\n",
      " |-- State: string (nullable = true)\n",
      " |-- Agent Zipcode: string (nullable = true)\n",
      " |-- Firm Name: string (nullable = true)\n",
      " |-- Firm Address: string (nullable = true)\n",
      " |-- Firm City: string (nullable = true)\n",
      " |-- Firm State: string (nullable = true)\n",
      " |-- Firm Zipcode: string (nullable = true)\n",
      " |-- PTS Agent ID: string (nullable = true)\n",
      " |-- From Date: string (nullable = true)\n",
      " |-- To Date: long (nullable = true)\n",
      " |-- License1: string (nullable = true)\n",
      " |-- License2: string (nullable = true)\n",
      "\n"
     ]
    }
   ],
   "source": [
    "df2.printSchema()"
   ]
  },
  {
   "cell_type": "code",
   "execution_count": 9,
   "metadata": {},
   "outputs": [
    {
     "name": "stdout",
     "output_type": "stream",
     "text": [
      "+-------------+-----------+----------------------+--------------------+-----+----+-------------+--------------------+--------------+-------------+----+-----------+--------------------+--------------+-------------------+-------------------+-------------------+-------------------+--------------------------------+-----------------------+--------------------------+--------------------------+-----------------------------+----------------+----------------------+--------------+------------+-----------------+--------------+-----------------+--------------+--------+---------------+--------------------------+--------------------------------------+--------------------------+--------------------------------------+-----------+-------------------+-----------------------------------+-------+--------------------+-------------+\n",
      "|Permit Number|Permit Type|Permit Type Definition|Permit Creation Date|Block| Lot|Street Number|Street Number Suffix|   Street Name|Street Suffix|Unit|Unit Suffix|         Description|Current Status|Current Status Date|         Filed Date|        Issued Date|     Completed Date|First Construction Document Date|Structural Notification|Number of Existing Stories|Number of Proposed Stories|Voluntary Soft-Story Retrofit|Fire Only Permit|Permit Expiration Date|Estimated Cost|Revised Cost|     Existing Use|Existing Units|     Proposed Use|Proposed Units|Plansets|TIDF Compliance|Existing Construction Type|Existing Construction Type Description|Proposed Construction Type|Proposed Construction Type Description|Site Permit|Supervisor District|Neighborhoods - Analysis Boundaries|Zipcode|            Location|    Record ID|\n",
      "+-------------+-----------+----------------------+--------------------+-----+----+-------------+--------------------+--------------+-------------+----+-----------+--------------------+--------------+-------------------+-------------------+-------------------+-------------------+--------------------------------+-----------------------+--------------------------+--------------------------+-----------------------------+----------------+----------------------+--------------+------------+-----------------+--------------+-----------------+--------------+--------+---------------+--------------------------+--------------------------------------+--------------------------+--------------------------------------+-----------+-------------------+-----------------------------------+-------+--------------------+-------------+\n",
      "| 200412171712|          1|      new construction| 2004-12-17 00:00:00| 0620| 006|         1601|                null|        Larkin|           St|null|       null|to erect 5 storie...|      complete|2017-12-20T00:00:00|2004-12-17T00:00:00|2014-04-30T00:00:00|2017-12-20T00:00:00|             2014-09-05T00:00:00|                   null|                      null|                         5|                         null|            null|            1585440000|       7000000|    11200000|             null|          null|       apartments|            27|       2|           null|                      null|                                  null|                         5|                        wood frame (5)|          Y|                  3|                       Russian Hill|  94109|\"{'human_address'...|\"\"city\"\":\"\"\"\"|\n",
      "| 200412171712|          1|      new construction| 2004-12-17 00:00:00| 0620| 006|         1603|                null|        Larkin|           St|null|       null|to erect 5 storie...|      complete|2017-12-20T00:00:00|2004-12-17T00:00:00|2014-04-30T00:00:00|2017-12-20T00:00:00|             2014-09-05T00:00:00|                   null|                      null|                         5|                         null|            null|            1585440000|       7000000|    11200000|             null|          null|       apartments|            27|       2|           null|                      null|                                  null|                         5|                        wood frame (5)|          Y|                  3|                       Russian Hill|  94109|\"{'human_address'...|\"\"city\"\":\"\"\"\"|\n",
      "| 200501123030|          8|  otc alterations p...| 2005-01-12 00:00:00| 1521|023A|          582|                null|          24th|           Av|null|       null|replace 5 windows...|       expired|2017-07-03T00:00:00|2005-01-12T00:00:00|2005-01-12T00:00:00|               null|                            null|                   null|                         2|                         2|                         null|            null|            1115856000|          3159|        3159|1 family dwelling|             1|1 family dwelling|             1|       0|           null|                         5|                        wood frame (5)|                         5|                        wood frame (5)|       null|                  1|                     Outer Richmond|  94121|\"{'human_address'...|\"\"city\"\":\"\"\"\"|\n",
      "| 200501193469|          8|  otc alterations p...| 2005-01-19 00:00:00| 3732| 130|          973|                null|        Howard|           St|null|       null|           reroofing|       expired|2017-07-05T00:00:00|2005-01-19T00:00:00|2005-01-19T00:00:00|               null|                            null|                   null|                         2|                         2|                         null|            null|            1121731200|          7000|        7000|1 family dwelling|             1|1 family dwelling|             1|       0|           null|                         5|                        wood frame (5)|                         5|                        wood frame (5)|       null|                  6|                    South of Market|  94103|\"{'human_address'...|\"\"city\"\":\"\"\"\"|\n",
      "| 200501213702|          8|  otc alterations p...| 2005-01-21 00:00:00| 7258| 015|           87|                null|    Clearfield|           Dr|null|       null|install 6 vinyl w...|       expired|2017-06-30T00:00:00|2005-01-21T00:00:00|2005-01-21T00:00:00|               null|                            null|                   null|                         2|                         2|                         null|            null|            1116633600|          3825|        3825|1 family dwelling|             1|1 family dwelling|             1|       0|           null|                         5|                        wood frame (5)|                         5|                        wood frame (5)|       null|                  7|                    Sunset/Parkside|  94132|\"{'human_address'...|\"\"city\"\":\"\"\"\"|\n",
      "| 200502074971|          8|  otc alterations p...| 2005-02-07 00:00:00| 1482| 014|          366|                null|   Point Lobos|           Av|null|       null|175 sf study on g...|       expired|2017-08-23T00:00:00|2005-02-07T00:00:00|2005-02-07T00:00:00|               null|                            null|                   null|                         2|                         2|                         null|            null|            1123372800|         20000|       20000|1 family dwelling|             1|1 family dwelling|             1|       2|           null|                         5|                        wood frame (5)|                         5|                        wood frame (5)|       null|                  1|                     Outer Richmond|  94121|\"{'human_address'...|\"\"city\"\":\"\"\"\"|\n",
      "| 200503086966|          8|  otc alterations p...| 2005-03-08 00:00:00|7240A| 007|          866|                null|Junipero Serra|           Bl|null|       null|           reroofing|       expired|2017-08-09T00:00:00|2005-03-08T00:00:00|2005-03-08T00:00:00|               null|                            null|                   null|                      null|                      null|                         null|            null|            1126137600|          7500|        7500|1 family dwelling|          null|1 family dwelling|          null|       0|           null|                      null|                                  null|                      null|                                  null|       null|                  7|                 West of Twin Peaks|  94132|\"{'human_address'...|\"\"city\"\":\"\"\"\"|\n",
      "| 200504079357|          8|  otc alterations p...| 2005-04-07 00:00:00| 1483| 011|          159|                null|     Seal Rock|           Dr|null|       null|renew 20040831294...|       expired|2017-09-26T00:00:00|2005-04-07T00:00:00|2005-04-07T00:00:00|2005-04-07T00:00:00|                            null|                   null|                         2|                         2|                         null|            null|            1123372800|             1|           1|1 family dwelling|             1|1 family dwelling|             1|       0|           null|                         5|                        wood frame (5)|                         5|                        wood frame (5)|       null|                  1|                     Outer Richmond|  94121|\"{'human_address'...|\"\"city\"\":\"\"\"\"|\n",
      "| 200504180218|          8|  otc alterations p...| 2005-04-18 00:00:00| 1403| 031|          302|                null|          31st|           Av|null|       null|install emerg. ex...|       expired|2017-07-17T00:00:00|2005-04-18T00:00:00|2005-04-18T00:00:00|               null|                            null|                   null|                         3|                         3|                         null|            null|            1124323200|          1400|        1400|       apartments|             4|       apartments|             4|       0|           null|                         5|                        wood frame (5)|                         5|                        wood frame (5)|       null|                  1|                     Outer Richmond|  94121|\"{'human_address'...|\"\"city\"\":\"\"\"\"|\n",
      "| 200504180218|          8|  otc alterations p...| 2005-04-18 00:00:00| 1403| 031|          308|                null|          31st|           Av|null|       null|install emerg. ex...|       expired|2017-07-17T00:00:00|2005-04-18T00:00:00|2005-04-18T00:00:00|               null|                            null|                   null|                         3|                         3|                         null|            null|            1124323200|          1400|        1400|       apartments|             4|       apartments|             4|       0|           null|                         5|                        wood frame (5)|                         5|                        wood frame (5)|       null|                  1|                     Outer Richmond|  94121|\"{'human_address'...|\"\"city\"\":\"\"\"\"|\n",
      "| 200505313758|          8|  otc alterations p...| 2005-05-31 00:00:00| 1307|001I|          308|                null|      Seacliff|           Av|null|       null|temporary constru...|       expired|2017-10-13T00:00:00|2005-05-31T00:00:00|2005-05-31T00:00:00|               null|                            null|                   null|                         2|                         2|                         null|            null|            1128038400|           500|         500|1 family dwelling|             1|1 family dwelling|             1|       2|           null|                         5|                        wood frame (5)|                         5|                        wood frame (5)|       null|                  2|                           Seacliff|  94121|\"{'human_address'...|\"\"city\"\":\"\"\"\"|\n",
      "| 200506134959|          8|  otc alterations p...| 2005-06-13 00:00:00| 1527| 020|          479|                null|          17th|           Av|null|       null|revision to 20050...|       expired|2017-07-05T00:00:00|2005-06-13T00:00:00|2005-06-13T00:00:00|               null|                            null|                   null|                         3|                         3|                         null|            null|            1129161600|             1|           1|2 family dwelling|             2|2 family dwelling|             2|       0|           null|                         5|                        wood frame (5)|                         5|                        wood frame (5)|       null|                  1|                     Outer Richmond|  94121|\"{'human_address'...|\"\"city\"\":\"\"\"\"|\n",
      "| 200506155132|          8|  otc alterations p...| 2005-06-15 00:00:00| 1633| 031|          682|                null|          12th|           Av|null|       null|clarify app 20040...|       expired|2017-09-11T00:00:00|2005-06-15T00:00:00|2005-06-15T00:00:00|               null|                            null|                   null|                         2|                         2|                         null|            null|            1129334400|             1|           1|1 family dwelling|             1|1 family dwelling|             1|       0|           null|                         5|                        wood frame (5)|                         5|                        wood frame (5)|       null|                  1|                     Inner Richmond|  94118|\"{'human_address'...|\"\"city\"\":\"\"\"\"|\n",
      "| 200509284133|          8|  otc alterations p...| 2005-09-28 00:00:00| 1633| 050|         1045|                null|        Balboa|           St|null|       null|add plywood and a...|     cancelled|2017-11-06T00:00:00|2005-09-28T00:00:00|2005-09-28T00:00:00|               null|                            null|                   null|                         3|                         3|                         null|            null|            1143504000|         10000|       10000|1 family dwelling|             1|1 family dwelling|             1|       2|           null|                         5|                        wood frame (5)|                         5|                        wood frame (5)|       null|                  1|                     Inner Richmond|  94118|\"{'human_address'...|\"\"city\"\":\"\"\"\"|\n",
      "| 200510185876|          8|  otc alterations p...| 2005-10-18 00:00:00| 3557| 015|         3338|                null|          16th|           St|   0|       null|fire damage repai...|      complete|2017-07-14T00:00:00|2005-10-18T00:00:00|2005-10-18T00:00:00|2017-07-14T00:00:00|                            null|                   null|                         4|                         4|                         null|            null|            1161129600|        250000|      250000|       apartments|             6|       apartments|             6|       2|           null|                         5|                        wood frame (5)|                         5|                        wood frame (5)|       null|                  8|                Castro/Upper Market|  94114|\"{'human_address'...|\"\"city\"\":\"\"\"\"|\n",
      "| 200510276639|          8|  otc alterations p...| 2005-10-27 00:00:00| 1384| 020|         2323|                null|          Lake|           St|null|       null|install 7 replace...|      complete|2018-04-04T00:00:00|2005-10-27T00:00:00|2005-10-27T00:00:00|2018-04-04T00:00:00|                            null|                   null|                         2|                         2|                         null|            null|            1140998400|          2921|        2921|1 family dwelling|             1|1 family dwelling|             1|       0|           null|                         5|                        wood frame (5)|                         5|                        wood frame (5)|       null|                  1|                     Outer Richmond|  94121|\"{'human_address'...|\"\"city\"\":\"\"\"\"|\n",
      "| 200511047487|          8|  otc alterations p...| 2005-11-04 00:00:00|2963B| 004|          230|                null|   Bella Vista|           Wy|null|       null|           reroofing|      complete|2017-08-24T00:00:00|2005-11-04T00:00:00|2005-11-04T00:00:00|2017-08-24T00:00:00|                            null|                   null|                      null|                      null|                         null|            null|            1146700800|          7500|        7500|1 family dwelling|          null|1 family dwelling|          null|       0|           null|                      null|                                  null|                      null|                                  null|       null|                  7|                 West of Twin Peaks|  94127|\"{'human_address'...|\"\"city\"\":\"\"\"\"|\n",
      "| 200511107877|          8|  otc alterations p...| 2005-11-10 00:00:00| 1612|017B|          762|                null|          33rd|           Av|null|       null|changes tiles, ba...|       expired|2017-08-10T00:00:00|2005-11-10T00:00:00|2005-11-10T00:00:00|               null|                            null|                   null|                         2|                         2|                         null|            null|            1147219200|          7000|        7000|1 family dwelling|             1|1 family dwelling|             1|       0|           null|                         5|                        wood frame (5)|                         5|                        wood frame (5)|       null|                  1|                     Outer Richmond|  94121|\"{'human_address'...|\"\"city\"\":\"\"\"\"|\n",
      "| 200512120135|          8|  otc alterations p...| 2005-12-12 00:00:00| 4211| 010|         1146|                null|       Potrero|           Av|null|       null|dry rot. repair @...|       expired|2017-09-19T00:00:00|2005-12-12T00:00:00|2005-12-12T00:00:00|               null|                            null|                   null|                         1|                         1|                         null|            null|            1144800000|          5000|        5000|1 family dwelling|             1|1 family dwelling|             1|       0|           null|                         5|                        wood frame (5)|                         5|                        wood frame (5)|       null|                  9|                            Mission|  94110|\"{'human_address'...|\"\"city\"\":\"\"\"\"|\n",
      "| 200512130194|          3|  additions alterat...| 2005-12-13 00:00:00| 1071| 004|         2690|                null|         Geary|           Bl|null|       null|installation of (...|       expired|2017-10-26T00:00:00|2005-12-13T00:00:00|2007-02-07T00:00:00|               null|                            null|                   null|                         7|                         7|                         null|            null|            1202342400|         80000|       80000| moving & storage|             0| moving & storage|             0|       2|           null|                         2|                         constr type 2|                         2|                         constr type 2|       null|                  2|                   Presidio Heights|  94118|\"{'human_address'...|\"\"city\"\":\"\"\"\"|\n",
      "+-------------+-----------+----------------------+--------------------+-----+----+-------------+--------------------+--------------+-------------+----+-----------+--------------------+--------------+-------------------+-------------------+-------------------+-------------------+--------------------------------+-----------------------+--------------------------+--------------------------+-----------------------------+----------------+----------------------+--------------+------------+-----------------+--------------+-----------------+--------------+--------+---------------+--------------------------+--------------------------------------+--------------------------+--------------------------------------+-----------+-------------------+-----------------------------------+-------+--------------------+-------------+\n",
      "only showing top 20 rows\n",
      "\n"
     ]
    }
   ],
   "source": [
    "# Show Data Licenses\n",
    "df.show()"
   ]
  },
  {
   "cell_type": "code",
   "execution_count": 10,
   "metadata": {},
   "outputs": [
    {
     "name": "stdout",
     "output_type": "stream",
     "text": [
      "+------+-------------+--------------------+---------+----------+-------------+--------------+----+-----+-------------+--------------------+--------------------+----------------+----------+------------+------------+---------+-------+--------+--------+\n",
      "|    ID|Permit Number|          First Name|Last Name|      Role|Agent Address|Agent Address2|City|State|Agent Zipcode|           Firm Name|        Firm Address|       Firm City|Firm State|Firm Zipcode|PTS Agent ID|From Date|To Date|License1|License2|\n",
      "+------+-------------+--------------------+---------+----------+-------------+--------------+----+-----+-------------+--------------------+--------------------+----------------+----------+------------+------------+---------+-------+--------+--------+\n",
      "|318704|      9801804|       James (Larry)|     Pace|contractor|         null|          null|null| null|         null|Cannon Constructo...|       301 Howard St|   San Francisco|        CA|  94105-0000|      699760|886464000|   null|  918396|    null|\n",
      "|317736|      9800794|    C.c. Roofing Co.|     null|contractor|         null|          null|null| null|         null|C. C. Roofing Com...|3814 Ortega Street *|   San Francisco|        CA|       94122|      699403|884908800|   null|  521080|    null|\n",
      "|318045|      9801108|        Simon   H  G|    Spark|contractor|         null|          null|null| null|         null|  Spark Construction|         171 Lily St|   San Francisco|        CA|  94102-0000|      699522|885427200|   null|  546094|    null|\n",
      "|318228|      9801294|Daniel Michael De...|     null|contractor|         null|          null|null| null|         null|   Creative Builders|    20 Burgess Court|       Sausalito|        CA|       94165|      699592|885772800|   null|  467684|    null|\n",
      "|319520|      9802643|                Phuc|      Loi|contractor|         null|          null|null| null|         null|Loi Electric Company|        67 Dorado Tr|   San Francisco|        CA|       94112|      700042|887760000|   null|  507233|    null|\n",
      "|319186|      9802304|            Glen Joe|   French|contractor|         null|          null|null| null|         null|    Cas Construction|      192 Bonview St|   San Francisco|        CA|  94110-0000|      699939|887155200|   null|  708239|    null|\n",
      "|317853|      9800913|         Thomas Dong|      Kim|contractor|         null|          null|null| null|         null|Safeway Plumbing ...|   378 Monticello St|   San Francisco|        CA|       94132|      699447|885254400|   null|  411118|    null|\n",
      "|317300|      9800347|                Evan|Donaldson|contractor|         null|          null|null| null|         null|Diverse Inspectio...|     P.o. Box 460447|   San Francisco|        CA|  94146-0000|      699268|884217600|   null|  611126|    null|\n",
      "|319482|      9802604|Markoff Structura...|     null|contractor|         null|          null|null| null|         null|Markoff Structura...|     6018 Mission St|       Daly City|        CA|  94014-0000|      700021|887673600|   null|  004739|    null|\n",
      "|317760|      9800818|               Clark|      Ahn|contractor|         null|          null|null| null|         null|Ahn House Corpora...|      1035 Revere Av|   San Francisco|        CA|       94124|      699411|885254400|   null|  513313|    null|\n",
      "|319233|      9802352|        Ronny Eugene|      Gil|contractor|         null|          null|null| null|         null|Gil Construction ...|         P.o.box 597|        Millbrae|        CA|  94030-0000|      699952|887241600|   null|  703705|    null|\n",
      "|317053|      9800096|   North Cal Roofing|     null|contractor|         null|          null|null| null|         null|   North Cal Roofing|    864  Foerster St|   San Francisco|        CA|  94127-0000|      699178|883958400|   null|  569521|    null|\n",
      "|317533|      9800583|             Phillip|   Sarris|contractor|         null|          null|null| null|         null| Sarris Construction|    131  Fillmore St|   San Francisco|        CA|       94117|      699332|884736000|   null|  361402|    null|\n",
      "|317470|      9800520|              Eugene|Gornitsky|contractor|         null|          null|null| null|         null|   E G Remodeling Co|      32  E. 4th Ave|       San Mateo|        CA|  94401-0000|      699313|884649600|   null|  476426|    null|\n",
      "|317769|      9800827|     Michael Richard| Mc Curdy|contractor|         null|          null|null| null|         null|     Mccurdy Roofing|      831 Hemlock Av|So San Francisco|        CA|       94080|      699416|885254400|   null|  477152|    null|\n",
      "|319021|      9802131|              Thomas|     null|contractor|         null|          null|null| null|         null|The Window Specia...|      P.o.box19051 *|         Oakland|        CA|  94619-0000|      699875|886982400|   null| 0494843|    null|\n",
      "|318702|      9801802|       James (Larry)|     Pace|contractor|         null|          null|null| null|         null|Cannon Constructo...|       301 Howard St|   San Francisco|        CA|  94105-0000|      699759|886464000|   null|  918396|    null|\n",
      "|317193|      9800240|            James B.|      Fox|contractor|         null|          null|null| null|         null|Rosemount Constru...|         666 41st Av|   San Francisco|        CA|  94121-0000|      699227|884131200|   null|  482113|    null|\n",
      "|319771|      9802900|                John|Alexander|contractor|         null|          null|null| null|         null|Jjj & K Inc./dba:...|     1322 Marsten Rd|      Burlingame|        CA|  94010-0000|      700119|887932800|   null|  642553|    null|\n",
      "|318071|      9801134|Ames-Billingsley/...|     null|contractor|         null|          null|null| null|         null|Ames-Billingsley,...|     418 Bayshore Bl|   San Francisco|        CA|       94124|      699538|885427200|   null|  260873|    null|\n",
      "+------+-------------+--------------------+---------+----------+-------------+--------------+----+-----+-------------+--------------------+--------------------+----------------+----------+------------+------------+---------+-------+--------+--------+\n",
      "only showing top 20 rows\n",
      "\n"
     ]
    }
   ],
   "source": [
    "# Show Data Licenses\n",
    "df2.show()"
   ]
  },
  {
   "cell_type": "code",
   "execution_count": 11,
   "metadata": {},
   "outputs": [],
   "source": [
    "# Register the DataFrame as a SQL temporary view\n",
    "df.createOrReplaceTempView(\"permit\")\n",
    "df2.createOrReplaceTempView(\"contact\")"
   ]
  },
  {
   "cell_type": "raw",
   "metadata": {},
   "source": []
  },
  {
   "cell_type": "markdown",
   "metadata": {},
   "source": [
    "# Data Mining"
   ]
  },
  {
   "cell_type": "code",
   "execution_count": 22,
   "metadata": {},
   "outputs": [],
   "source": [
    "# 1. Show Building owner, firm name, and permit type\n",
    "query1 = spark.sql(\"SELECT CONCAT(`First Name`,' ',`Last Name`) AS FullName,`Firm Name`, `Permit Type Definition` \\\n",
    "                    FROM permit JOIN contact ON permit.`Permit Number`=contact.`Permit Number`\")"
   ]
  },
  {
   "cell_type": "code",
   "execution_count": 23,
   "metadata": {},
   "outputs": [
    {
     "name": "stdout",
     "output_type": "stream",
     "text": [
      "+--------------------+--------------------+----------------------+\n",
      "|            FullName|           Firm Name|Permit Type Definition|\n",
      "+--------------------+--------------------+----------------------+\n",
      "| Christopher Stanton|Paragon General C...|  otc alterations p...|\n",
      "|        Doug Gearman|Turner Constructi...|  otc alterations p...|\n",
      "|                null| Cascade Roofing Co.|  otc alterations p...|\n",
      "|        David Grassi|Professional Conc...|  otc alterations p...|\n",
      "|                null|Trans -City Const...|  otc alterations p...|\n",
      "|                null|Corporate Builder...|  additions alterat...|\n",
      "| Steve Sung Kun Hong|  Westech Roofing Co|  otc alterations p...|\n",
      "|   Jaidin Consulting|               Group|  additions alterat...|\n",
      "|                null|Mitchell Engineer...|  otc alterations p...|\n",
      "|           Tom Ledda|  Ledda Plumbing Inc|  otc alterations p...|\n",
      "|            Tung Luu|All Four Season's...|  otc alterations p...|\n",
      "|                null|David Silverberg ...|  otc alterations p...|\n",
      "|                null|   Delta Roofing Inc|  otc alterations p...|\n",
      "|Justo Alvitez, We...| On-Site Maintenance|  otc alterations p...|\n",
      "|   Jaidin Consulting|               Group|          sign - erect|\n",
      "|                null|Mutual Seiko Cons...|  additions alterat...|\n",
      "|       Jeffrey Goffo|Goffo Constructio...|  otc alterations p...|\n",
      "|   Cosmas Giannoulis|C & J Roofing Com...|  otc alterations p...|\n",
      "|   Jaidin Consulting|               Group|           demolitions|\n",
      "|     Phil Carlevaris|         D P W  Inc.|  otc alterations p...|\n",
      "+--------------------+--------------------+----------------------+\n",
      "only showing top 20 rows\n",
      "\n"
     ]
    }
   ],
   "source": [
    "query1.show()"
   ]
  },
  {
   "cell_type": "code",
   "execution_count": 28,
   "metadata": {},
   "outputs": [],
   "source": [
    "# 2. Total building permit which is already expired based on the permit type\n",
    "query2 = spark.sql(\"SELECT `Permit Type Definition`, COUNT(`Current Status`) as TOTAL \\\n",
    "                    FROM permit \\\n",
    "                    WHERE `Current Status`='expired'\\\n",
    "                    GROUP BY `Permit Type Definition` \\\n",
    "                    ORDER BY Total DESC\")"
   ]
  },
  {
   "cell_type": "code",
   "execution_count": 29,
   "metadata": {},
   "outputs": [
    {
     "name": "stdout",
     "output_type": "stream",
     "text": [
      "+----------------------+------+\n",
      "|Permit Type Definition| TOTAL|\n",
      "+----------------------+------+\n",
      "|  otc alterations p...|151470|\n",
      "|  additions alterat...| 65598|\n",
      "|          sign - erect|  4136|\n",
      "|  new construction ...|  1508|\n",
      "|           demolitions|   590|\n",
      "|  wall or painted sign|   379|\n",
      "|      new construction|   324|\n",
      "|  grade or quarry o...|   239|\n",
      "+----------------------+------+\n",
      "\n"
     ]
    }
   ],
   "source": [
    "query2.show()"
   ]
  },
  {
   "cell_type": "code",
   "execution_count": 41,
   "metadata": {},
   "outputs": [],
   "source": [
    "# 3. New construction building in 2019\n",
    "query3 = spark.sql(\"SELECT `Firm Name`, TO_DATE(`Permit Creation Date`, 'MM/DD/YYYY') AS Date \\\n",
    "                    FROM permit JOIN contact ON permit.`Permit Number`=contact.`Permit Number` \\\n",
    "                    WHERE `Permit Type Definition`='new construction' AND YEAR(`Permit Creation Date`)='2019'\")"
   ]
  },
  {
   "cell_type": "code",
   "execution_count": 42,
   "metadata": {},
   "outputs": [
    {
     "name": "stdout",
     "output_type": "stream",
     "text": [
      "+--------------------+----------+\n",
      "|           Firm Name|      Date|\n",
      "+--------------------+----------+\n",
      "|                null|2019-02-11|\n",
      "|Cahill Contractor...|2019-02-11|\n",
      "|Gary Bell & Assoc...|2019-01-30|\n",
      "|Christiani Johnso...|2019-01-30|\n",
      "|            Doug Lee|2019-01-04|\n",
      "|        William Chan|2019-01-04|\n",
      "+--------------------+----------+\n",
      "\n"
     ]
    }
   ],
   "source": [
    "query3.show()"
   ]
  },
  {
   "cell_type": "code",
   "execution_count": 64,
   "metadata": {},
   "outputs": [],
   "source": [
    "#4. Gap between estimated and revised cost of building permition\n",
    "query4 = spark.sql(\"SELECT `Firm Name`, `Permit Type Definition`, `Estimated Cost`, `Revised Cost`, ABS(`Estimated Cost`-`Revised Cost`) As Gap \\\n",
    "                    FROM permit JOIN contact ON permit.`Permit Number`=contact.`Permit Number`\")"
   ]
  },
  {
   "cell_type": "code",
   "execution_count": 65,
   "metadata": {},
   "outputs": [
    {
     "name": "stdout",
     "output_type": "stream",
     "text": [
      "+--------------------+----------------------+--------------+------------+------+\n",
      "|           Firm Name|Permit Type Definition|Estimated Cost|Revised Cost|   Gap|\n",
      "+--------------------+----------------------+--------------+------------+------+\n",
      "|Paragon General C...|  otc alterations p...|         20000|       20000|   0.0|\n",
      "|Turner Constructi...|  otc alterations p...|         10000|       10000|   0.0|\n",
      "| Cascade Roofing Co.|  otc alterations p...|          null|        3800|  null|\n",
      "|Professional Conc...|  otc alterations p...|          5500|        5500|   0.0|\n",
      "|Trans -City Const...|  otc alterations p...|          null|        5000|  null|\n",
      "|Corporate Builder...|  additions alterat...|      15000000|     1500000|1.35E7|\n",
      "|  Westech Roofing Co|  otc alterations p...|          null|        4200|  null|\n",
      "|               Group|  additions alterat...|        150000|      150000|   0.0|\n",
      "|Mitchell Engineer...|  otc alterations p...|          8000|        8000|   0.0|\n",
      "|  Ledda Plumbing Inc|  otc alterations p...|          3800|        3800|   0.0|\n",
      "|All Four Season's...|  otc alterations p...|          null|        4500|  null|\n",
      "|David Silverberg ...|  otc alterations p...|             1|           1|   0.0|\n",
      "|   Delta Roofing Inc|  otc alterations p...|          null|        1500|  null|\n",
      "| On-Site Maintenance|  otc alterations p...|          null|        6000|  null|\n",
      "|               Group|          sign - erect|           500|         500|   0.0|\n",
      "|Mutual Seiko Cons...|  additions alterat...|         95000|       95000|   0.0|\n",
      "|Goffo Constructio...|  otc alterations p...|          6000|        6000|   0.0|\n",
      "|C & J Roofing Com...|  otc alterations p...|          null|        7900|  null|\n",
      "|               Group|           demolitions|          null|        null|  null|\n",
      "|         D P W  Inc.|  otc alterations p...|         15500|       15500|   0.0|\n",
      "+--------------------+----------------------+--------------+------------+------+\n",
      "only showing top 20 rows\n",
      "\n"
     ]
    }
   ],
   "source": [
    "query4.show()"
   ]
  },
  {
   "cell_type": "code",
   "execution_count": 69,
   "metadata": {},
   "outputs": [],
   "source": [
    "#5. Building existing used as family dwelling\n",
    "query5 = spark.sql(\"SELECT `Firm Name`, `Existing Use` \\\n",
    "                    FROM permit JOIN contact ON permit.`Permit Number`=contact.`Permit Number` \\\n",
    "                    WHERE `Existing Use` LIKE '%family dwelling%'\")"
   ]
  },
  {
   "cell_type": "code",
   "execution_count": 70,
   "metadata": {},
   "outputs": [
    {
     "name": "stdout",
     "output_type": "stream",
     "text": [
      "+--------------------+-----------------+\n",
      "|           Firm Name|     Existing Use|\n",
      "+--------------------+-----------------+\n",
      "| Cascade Roofing Co.|2 family dwelling|\n",
      "|Professional Conc...|1 family dwelling|\n",
      "|Trans -City Const...|1 family dwelling|\n",
      "|  Westech Roofing Co|2 family dwelling|\n",
      "|               Group|1 family dwelling|\n",
      "|All Four Season's...|2 family dwelling|\n",
      "|David Silverberg ...|1 family dwelling|\n",
      "|   Delta Roofing Inc|1 family dwelling|\n",
      "|Goffo Constructio...|1 family dwelling|\n",
      "|C & J Roofing Com...|1 family dwelling|\n",
      "|   Tony Construction|1 family dwelling|\n",
      "|                null|2 family dwelling|\n",
      "|                null|2 family dwelling|\n",
      "|Shaughnessy Roofi...|1 family dwelling|\n",
      "|      Daniel Ehrmann|2 family dwelling|\n",
      "|Mccarthy /Fred Ha...|1 family dwelling|\n",
      "|A B C  Window Con...|1 family dwelling|\n",
      "|   Kelly Roofing Inc|1 family dwelling|\n",
      "| Tom Lee Roofing Inc|2 family dwelling|\n",
      "|         101 Roofing|1 family dwelling|\n",
      "+--------------------+-----------------+\n",
      "only showing top 20 rows\n",
      "\n"
     ]
    }
   ],
   "source": [
    "query5.show()"
   ]
  },
  {
   "cell_type": "code",
   "execution_count": 71,
   "metadata": {},
   "outputs": [],
   "source": [
    "#6. Building permition owned by agent\n",
    "query6 = spark.sql(\"SELECT `Firm Name`, Role\\\n",
    "                    FROM contact \\\n",
    "                    WHERE Role LIKE '%agent%'\")"
   ]
  },
  {
   "cell_type": "code",
   "execution_count": 72,
   "metadata": {},
   "outputs": [
    {
     "name": "stdout",
     "output_type": "stream",
     "text": [
      "+--------------------+--------------------+\n",
      "|           Firm Name|                Role|\n",
      "+--------------------+--------------------+\n",
      "|Kotas/pontaleoni ...|authorized agent-...|\n",
      "|Kotas/pontaleoni ...|authorized agent-...|\n",
      "|                null|authorized agent-...|\n",
      "|         Carolyn Liu|authorized agent-...|\n",
      "|                null|authorized agent-...|\n",
      "|Rhl Design Group ...|authorized agent-...|\n",
      "|                null|authorized agent-...|\n",
      "|    Jadin Consulting|authorized agent-...|\n",
      "|                null|authorized agent-...|\n",
      "|           Gci, Inc.|authorized agent-...|\n",
      "|Permit Drafting S...|authorized agent-...|\n",
      "|               Terry|authorized agent-...|\n",
      "|J Fitzimmons Buil...|authorized agent-...|\n",
      "|                null|authorized agent-...|\n",
      "|                null|authorized agent-...|\n",
      "| Permit Services Inc|authorized agent-...|\n",
      "| Natoma Architec Inc|authorized agent-...|\n",
      "|                 Llc|authorized agent-...|\n",
      "|Red Hawk Fire & S...|authorized agent-...|\n",
      "|                null|authorized agent-...|\n",
      "+--------------------+--------------------+\n",
      "only showing top 20 rows\n",
      "\n"
     ]
    }
   ],
   "source": [
    "query6.show()"
   ]
  }
 ],
 "metadata": {
  "kernelspec": {
   "display_name": "Python 3",
   "language": "python",
   "name": "python3"
  },
  "language_info": {
   "codemirror_mode": {
    "name": "ipython",
    "version": 3
   },
   "file_extension": ".py",
   "mimetype": "text/x-python",
   "name": "python",
   "nbconvert_exporter": "python",
   "pygments_lexer": "ipython3",
   "version": "3.7.1"
  }
 },
 "nbformat": 4,
 "nbformat_minor": 2
}
